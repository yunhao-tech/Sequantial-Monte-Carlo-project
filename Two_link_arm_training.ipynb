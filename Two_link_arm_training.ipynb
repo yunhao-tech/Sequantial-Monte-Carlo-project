{
 "cells": [
  {
   "cell_type": "code",
   "execution_count": 1,
   "metadata": {},
   "outputs": [],
   "source": [
    "import numpy as np\n",
    "import matplotlib.pyplot as plt\n",
    "import random\n",
    "import torch\n",
    "from torch.utils.data import Dataset, DataLoader\n",
    "from torch import nn, autograd as ag\n",
    "from tqdm import tqdm\n",
    "from copy import deepcopy\n",
    "\n",
    "from model import *\n",
    "from utils import *\n",
    "from dataset import *"
   ]
  },
  {
   "cell_type": "code",
   "execution_count": 2,
   "metadata": {},
   "outputs": [],
   "source": [
    "hyperparams = {\n",
    "        'n_tasks': 1000,\n",
    "        'n_episode': 150,\n",
    "        'n_timesteps': 10,\n",
    "        'input_dim': 2,\n",
    "        'hidden_dim': 512,\n",
    "        'output_dim': 2,\n",
    "        'lr': 1e-4,\n",
    "        'batch_size': 128,\n",
    "        'n_epochs': 100,\n",
    "        }"
   ]
  },
  {
   "cell_type": "markdown",
   "metadata": {
    "id": "iiTA-Cwr5Pey"
   },
   "source": [
    "# Pretraining Data Simulation"
   ]
  },
  {
   "cell_type": "code",
   "execution_count": 3,
   "metadata": {},
   "outputs": [],
   "source": [
    "def get_loader(batch_size=hyperparams['batch_size'], n_tasks=hyperparams['n_tasks'], \n",
    "                set_seed: Union[int, None]=None, shuffle: bool=True):\n",
    "    dataset = TwoArmLinkTrainDataset(n_tasks=n_tasks, n_episode=hyperparams['n_episode'], n_timesteps=hyperparams['n_timesteps'], set_seed=set_seed)\n",
    "    data_loader = DataLoader(dataset=dataset,\n",
    "                            batch_size=batch_size,\n",
    "                            shuffle=shuffle,\n",
    "                            pin_memory=True,\n",
    "                            drop_last=True,\n",
    "                            )\n",
    "    return data_loader"
   ]
  },
  {
   "cell_type": "markdown",
   "metadata": {
    "jp-MarkdownHeadingCollapsed": true,
    "tags": []
   },
   "source": [
    "# Multi-Task Training"
   ]
  },
  {
   "cell_type": "code",
   "execution_count": 4,
   "metadata": {},
   "outputs": [
    {
     "name": "stderr",
     "output_type": "stream",
     "text": [
      "100%|██████████| 1000/1000 [00:11<00:00, 85.79it/s]\n"
     ]
    },
    {
     "name": "stdout",
     "output_type": "stream",
     "text": [
      "Two Arm Link Dataset Generation Finished!\n"
     ]
    }
   ],
   "source": [
    "train_loader = get_loader(set_seed=0, shuffle=True)"
   ]
  },
  {
   "cell_type": "code",
   "execution_count": 5,
   "metadata": {},
   "outputs": [],
   "source": [
    "device = torch.device(\"cuda\" if torch.cuda.is_available() else \"cpu\")\n",
    "model = MyModel(input_dim=hyperparams['input_dim'], output_dim=hyperparams['output_dim'], hidden_dim=hyperparams['hidden_dim']).to(device)\n",
    "model = model.double()\n",
    "model.train()\n",
    "optimizer = torch.optim.Adam(model.parameters(), lr=hyperparams['lr'])\n",
    "criterion = nn.MSELoss()"
   ]
  },
  {
   "cell_type": "code",
   "execution_count": 6,
   "metadata": {},
   "outputs": [],
   "source": [
    "def train_multi_task(data_loader=train_loader, nb_epochs=hyperparams['n_epochs']):\n",
    "    total_loss = []\n",
    "    for epoch in range(1, nb_epochs + 1):\n",
    "    \t# store the loss in each batch\n",
    "        losses = []\n",
    "        # use tqdm to better visualize the training process\n",
    "        with tqdm(data_loader, unit=\"batch\") as tepoch: # evaluate every batch\n",
    "            for data in tepoch:\n",
    "                tepoch.set_description(f\"Epoch {epoch}\") # custome the printed message in tqdm\n",
    "                x = data['angle'].to(device)\n",
    "                y = data['true_pos'].to(device)\n",
    "                optimizer.zero_grad()\n",
    "                output = model.forward(x)\n",
    "                loss = criterion(output, y)\n",
    "                loss.backward() # backward propagation\n",
    "                optimizer.step() # update parameters\n",
    "                losses.append(loss.item())\n",
    "                # custome what is printed in tqdm message\n",
    "                tepoch.set_postfix(loss=sum(losses)/len(losses))\n",
    "        total_loss.append(sum(losses)/len(losses))\n",
    "    return total_loss"
   ]
  },
  {
   "cell_type": "code",
   "execution_count": null,
   "metadata": {},
   "outputs": [],
   "source": [
    "total_loss = train_multi_task(nb_epochs=10) # return a list of loss in different epochs"
   ]
  },
  {
   "cell_type": "code",
   "execution_count": 16,
   "metadata": {},
   "outputs": [
    {
     "data": {
      "text/plain": [
       "[<matplotlib.lines.Line2D at 0x1250811d8e0>]"
      ]
     },
     "execution_count": 16,
     "metadata": {},
     "output_type": "execute_result"
    },
    {
     "data": {
      "image/png": "[encoded data removed]",
      "text/plain": [
       "<Figure size 640x480 with 1 Axes>"
      ]
     },
     "metadata": {},
     "output_type": "display_data"
    }
   ],
   "source": [
    "plt.plot(total_loss)"
   ]
  },
  {
   "cell_type": "code",
   "execution_count": 15,
   "metadata": {},
   "outputs": [],
   "source": [
    "# save parameters and optimizer\n",
    "torch.save({\n",
    "    'state_dict': model.state_dict(),\n",
    "    'loss': total_loss,\n",
    "    'optimizer' : optimizer.state_dict(),\n",
    "}, 'Task1_multiTask.pth.tar')"
   ]
  },
  {
   "cell_type": "markdown",
   "metadata": {
    "jp-MarkdownHeadingCollapsed": true,
    "tags": []
   },
   "source": [
    "# Reptile Training"
   ]
  },
  {
   "cell_type": "code",
   "execution_count": 46,
   "metadata": {},
   "outputs": [],
   "source": [
    "device = torch.device(\"cuda\" if torch.cuda.is_available() else \"cpu\")\n",
    "model_reptile = MyModel(input_dim=hyperparams['input_dim'], output_dim=hyperparams['output_dim'], hidden_dim=hyperparams['hidden_dim']).to(device)\n",
    "model_reptile = model_reptile.double()\n",
    "model_reptile.train()\n",
    "optimizer_reptile = torch.optim.Adam(model_reptile.parameters(), lr=hyperparams['lr'])\n",
    "criterion = nn.MSELoss()"
   ]
  },
  {
   "cell_type": "code",
   "execution_count": 39,
   "metadata": {},
   "outputs": [
    {
     "name": "stderr",
     "output_type": "stream",
     "text": [
      "100%|██████████| 1000/1000 [00:11<00:00, 83.45it/s]\n"
     ]
    },
    {
     "name": "stdout",
     "output_type": "stream",
     "text": [
      "Two Arm Link Dataset Generation Finished!\n"
     ]
    }
   ],
   "source": [
    "train_dataset_reptile = TwoArmLinkTrainDataset(n_tasks=hyperparams['n_tasks'], n_episode=hyperparams['n_episode'], n_timesteps=hyperparams['n_timesteps'], set_seed=0)"
   ]
  },
  {
   "cell_type": "code",
   "execution_count": 47,
   "metadata": {},
   "outputs": [
    {
     "data": {
      "text/plain": [
       "<torch._C.Generator at 0x124c893dd10>"
      ]
     },
     "execution_count": 47,
     "metadata": {},
     "output_type": "execute_result"
    }
   ],
   "source": [
    "seed = 0\n",
    "rng = np.random.RandomState(seed)\n",
    "torch.manual_seed(seed)"
   ]
  },
  {
   "cell_type": "code",
   "execution_count": 48,
   "metadata": {},
   "outputs": [],
   "source": [
    "def train_reptile(dataset=train_dataset_reptile, nb_epochs=hyperparams['n_epochs']):\n",
    "    def totorch(x):\n",
    "        return ag.Variable(torch.DoubleTensor(x).to(device))\n",
    "        \n",
    "    def train_on_batch(x, y):\n",
    "        x = totorch(x)\n",
    "        y = totorch(y)\n",
    "        optimizer_reptile.zero_grad()\n",
    "        ypred = model_reptile.forward(x)\n",
    "        loss = criterion(ypred, y)\n",
    "        loss.backward()\n",
    "        optimizer_reptile.step()\n",
    "        return loss\n",
    "\n",
    "    batch_size = hyperparams['batch_size']\n",
    "    meta_step_size = 0.02\n",
    "    n_episode = hyperparams['n_episode']\n",
    "    n_task = hyperparams['n_tasks']\n",
    "    n_timestep = hyperparams['n_timesteps']\n",
    "    history = []\n",
    "    for epoch in range(nb_epochs):\n",
    "        losses = []\n",
    "        with tqdm(range(n_task), unit='task') as tepoch:\n",
    "            for meta_iter in tepoch:\n",
    "                tepoch.set_description(f'Epoch {epoch}')\n",
    "                x_train = dataset.q[meta_iter*n_episode*n_timestep:(meta_iter+1)*n_episode*n_timestep]\n",
    "                y_train = dataset.x[meta_iter*n_episode*n_timestep:(meta_iter+1)*n_episode*n_timestep]\n",
    "\n",
    "                weights_before = deepcopy(model_reptile.state_dict())\n",
    "                inds = rng.permutation(len(x_train))\n",
    "                for start in range(0, len(x_train), batch_size):\n",
    "                    mbinds = inds[start:start+batch_size]\n",
    "                    losses.append(train_on_batch(x_train[mbinds], y_train[mbinds]))\n",
    "                # Interpolate between current weights and trained weights from this task\n",
    "                # I.e. (weights_before - weights_after) is the meta-gradient\n",
    "                weights_after = model_reptile.state_dict()\n",
    "                outerstepsize = meta_step_size * (1 - meta_iter / n_task) # linear schedule\n",
    "                model_reptile.load_state_dict({name: \n",
    "                    weights_before[name] + (weights_after[name] - weights_before[name]) * outerstepsize \n",
    "                    for name in weights_before})\n",
    "\n",
    "                loss = sum(losses) / len(losses)\n",
    "                # print(f\"Epoch: {epoch}, Loss: {loss.item()}\")\n",
    "                tepoch.set_postfix(loss=loss.item())\n",
    "        history.append(loss.item())\n",
    "    return history"
   ]
  },
  {
   "cell_type": "code",
   "execution_count": 49,
   "metadata": {
    "collapsed": true,
    "jupyter": {
     "outputs_hidden": true
    },
    "tags": []
   },
   "outputs": [
    {
     "name": "stderr",
     "output_type": "stream",
     "text": [
      "Epoch 0: 100%|██████████| 1000/1000 [05:57<00:00,  2.80task/s, loss=0.367]\n",
      "Epoch 1: 100%|██████████| 1000/1000 [05:40<00:00,  2.93task/s, loss=0.18]\n",
      "Epoch 2: 100%|██████████| 1000/1000 [05:40<00:00,  2.94task/s, loss=0.138]\n",
      "Epoch 3: 100%|██████████| 1000/1000 [05:41<00:00,  2.93task/s, loss=0.124]\n",
      "Epoch 4: 100%|██████████| 1000/1000 [05:42<00:00,  2.92task/s, loss=0.118]\n",
      "Epoch 5: 100%|██████████| 1000/1000 [05:40<00:00,  2.94task/s, loss=0.114]\n",
      "Epoch 6: 100%|██████████| 1000/1000 [05:40<00:00,  2.94task/s, loss=0.111]\n",
      "Epoch 7: 100%|██████████| 1000/1000 [05:57<00:00,  2.79task/s, loss=0.109]\n",
      "Epoch 8: 100%|██████████| 1000/1000 [06:06<00:00,  2.73task/s, loss=0.108]\n",
      "Epoch 9: 100%|██████████| 1000/1000 [06:02<00:00,  2.76task/s, loss=0.107]\n",
      "Epoch 10: 100%|██████████| 1000/1000 [06:06<00:00,  2.73task/s, loss=0.106]\n",
      "Epoch 11: 100%|██████████| 1000/1000 [05:41<00:00,  2.93task/s, loss=0.105]\n",
      "Epoch 12: 100%|██████████| 1000/1000 [05:48<00:00,  2.87task/s, loss=0.105]\n",
      "Epoch 13: 100%|██████████| 1000/1000 [05:48<00:00,  2.87task/s, loss=0.104]\n",
      "Epoch 14: 100%|██████████| 1000/1000 [05:55<00:00,  2.81task/s, loss=0.103]\n",
      "Epoch 15: 100%|██████████| 1000/1000 [05:56<00:00,  2.81task/s, loss=0.103]\n",
      "Epoch 16: 100%|██████████| 1000/1000 [05:54<00:00,  2.82task/s, loss=0.103]\n",
      "Epoch 17: 100%|██████████| 1000/1000 [05:51<00:00,  2.85task/s, loss=0.102]\n",
      "Epoch 18: 100%|██████████| 1000/1000 [06:07<00:00,  2.72task/s, loss=0.102]\n",
      "Epoch 19: 100%|██████████| 1000/1000 [05:54<00:00,  2.82task/s, loss=0.102]\n",
      "Epoch 20: 100%|██████████| 1000/1000 [05:23<00:00,  3.09task/s, loss=0.101]\n",
      "Epoch 21: 100%|██████████| 1000/1000 [05:29<00:00,  3.04task/s, loss=0.101]\n",
      "Epoch 22: 100%|██████████| 1000/1000 [05:32<00:00,  3.00task/s, loss=0.101]\n",
      "Epoch 23: 100%|██████████| 1000/1000 [05:26<00:00,  3.06task/s, loss=0.101]\n",
      "Epoch 24: 100%|██████████| 1000/1000 [05:11<00:00,  3.21task/s, loss=0.101]\n",
      "Epoch 25: 100%|██████████| 1000/1000 [05:10<00:00,  3.22task/s, loss=0.1] \n",
      "Epoch 26: 100%|██████████| 1000/1000 [05:14<00:00,  3.18task/s, loss=0.1] \n",
      "Epoch 27:  22%|██▏       | 221/1000 [00:34<01:59,  6.50task/s, loss=0.1]   \n"
     ]
    },
    {
     "ename": "KeyboardInterrupt",
     "evalue": "",
     "output_type": "error",
     "traceback": [
      "\u001b[1;31m---------------------------------------------------------------------------\u001b[0m",
      "\u001b[1;31mKeyboardInterrupt\u001b[0m                         Traceback (most recent call last)",
      "Cell \u001b[1;32mIn[49], line 1\u001b[0m\n\u001b[1;32m----> 1\u001b[0m loss_reptile \u001b[39m=\u001b[39m train_reptile(nb_epochs\u001b[39m=\u001b[39;49m\u001b[39m50\u001b[39;49m)\n",
      "Cell \u001b[1;32mIn[48], line 33\u001b[0m, in \u001b[0;36mtrain_reptile\u001b[1;34m(dataset, nb_epochs)\u001b[0m\n\u001b[0;32m     31\u001b[0m \u001b[39mfor\u001b[39;00m start \u001b[39min\u001b[39;00m \u001b[39mrange\u001b[39m(\u001b[39m0\u001b[39m, \u001b[39mlen\u001b[39m(x_train), batch_size):\n\u001b[0;32m     32\u001b[0m     mbinds \u001b[39m=\u001b[39m inds[start:start\u001b[39m+\u001b[39mbatch_size]\n\u001b[1;32m---> 33\u001b[0m     losses\u001b[39m.\u001b[39mappend(train_on_batch(x_train[mbinds], y_train[mbinds]))\n\u001b[0;32m     34\u001b[0m \u001b[39m# Interpolate between current weights and trained weights from this task\u001b[39;00m\n\u001b[0;32m     35\u001b[0m \u001b[39m# I.e. (weights_before - weights_after) is the meta-gradient\u001b[39;00m\n\u001b[0;32m     36\u001b[0m weights_after \u001b[39m=\u001b[39m model_reptile\u001b[39m.\u001b[39mstate_dict()\n",
      "Cell \u001b[1;32mIn[48], line 7\u001b[0m, in \u001b[0;36mtrain_reptile.<locals>.train_on_batch\u001b[1;34m(x, y)\u001b[0m\n\u001b[0;32m      5\u001b[0m \u001b[39mdef\u001b[39;00m \u001b[39mtrain_on_batch\u001b[39m(x, y):\n\u001b[0;32m      6\u001b[0m     x \u001b[39m=\u001b[39m totorch(x)\n\u001b[1;32m----> 7\u001b[0m     y \u001b[39m=\u001b[39m totorch(y)\n\u001b[0;32m      8\u001b[0m     optimizer_reptile\u001b[39m.\u001b[39mzero_grad()\n\u001b[0;32m      9\u001b[0m     ypred \u001b[39m=\u001b[39m model_reptile\u001b[39m.\u001b[39mforward(x)\n",
      "Cell \u001b[1;32mIn[48], line 3\u001b[0m, in \u001b[0;36mtrain_reptile.<locals>.totorch\u001b[1;34m(x)\u001b[0m\n\u001b[0;32m      2\u001b[0m \u001b[39mdef\u001b[39;00m \u001b[39mtotorch\u001b[39m(x):\n\u001b[1;32m----> 3\u001b[0m     \u001b[39mreturn\u001b[39;00m ag\u001b[39m.\u001b[39mVariable(torch\u001b[39m.\u001b[39;49mDoubleTensor(x)\u001b[39m.\u001b[39;49mto(device))\n",
      "\u001b[1;31mKeyboardInterrupt\u001b[0m: "
     ]
    }
   ],
   "source": [
    "loss_reptile = train_reptile(nb_epochs=10)"
   ]
  },
  {
   "cell_type": "code",
   "execution_count": 13,
   "metadata": {},
   "outputs": [],
   "source": [
    "# save parameters and optimizer\n",
    "torch.save({\n",
    "    'state_dict': model_reptile.state_dict(),\n",
    "    'loss': loss_reptile,\n",
    "    'optimizer' : optimizer_reptile.state_dict(),\n",
    "}, 'Task1_reptile.pth.tar')"
   ]
  },
  {
   "cell_type": "code",
   "execution_count": 12,
   "metadata": {},
   "outputs": [
    {
     "data": {
      "text/plain": [
       "[<matplotlib.lines.Line2D at 0x7fe5db2848b0>]"
      ]
     },
     "execution_count": 12,
     "metadata": {},
     "output_type": "execute_result"
    },
    {
     "data": {
      "image/png": "[encoded data removed]",
      "text/plain": [
       "<Figure size 640x480 with 1 Axes>"
      ]
     },
     "metadata": {},
     "output_type": "display_data"
    }
   ],
   "source": [
    "plt.plot(loss_reptile)"
   ]
  },
  {
   "cell_type": "markdown",
   "metadata": {
    "tags": []
   },
   "source": [
    "# Load model"
   ]
  },
  {
   "cell_type": "code",
   "execution_count": 7,
   "metadata": {},
   "outputs": [
    {
     "data": {
      "text/plain": [
       "MyModel(\n",
       "  (lin1): Linear(in_features=2, out_features=512, bias=True)\n",
       "  (lin2): Linear(in_features=512, out_features=512, bias=True)\n",
       "  (lin3): Linear(in_features=512, out_features=2, bias=True)\n",
       "  (relu): ReLU()\n",
       "  (dropout_for_GD): Dropout(p=0.5, inplace=False)\n",
       "  (dropout): DropoutLayer()\n",
       ")"
      ]
     },
     "execution_count": 7,
     "metadata": {},
     "output_type": "execute_result"
    }
   ],
   "source": [
    "device = torch.device(\"cuda\" if torch.cuda.is_available() else \"cpu\")\n",
    "model = MyModel().to(device)\n",
    "checkpoint = torch.load('Task1_multiTask.pth.tar')\n",
    "model.load_state_dict(checkpoint['state_dict'])\n",
    "model.eval()"
   ]
  },
  {
   "cell_type": "code",
   "execution_count": 8,
   "metadata": {
    "tags": []
   },
   "outputs": [
    {
     "data": {
      "text/plain": [
       "[<matplotlib.lines.Line2D at 0x7fad3a2e3d90>]"
      ]
     },
     "execution_count": 8,
     "metadata": {},
     "output_type": "execute_result"
    },
    {
     "data": {
      "image/png": "[encoded data removed]",
      "text/plain": [
       "<Figure size 640x480 with 1 Axes>"
      ]
     },
     "metadata": {},
     "output_type": "display_data"
    }
   ],
   "source": [
    "l = checkpoint['loss']\n",
    "plt.plot(l)"
   ]
  },
  {
   "cell_type": "code",
   "execution_count": null,
   "metadata": {},
   "outputs": [],
   "source": []
  }
 ],
 "metadata": {
  "kernelspec": {
   "display_name": "base",
   "language": "python",
   "name": "python3"
  },
  "language_info": {
   "codemirror_mode": {
    "name": "ipython",
    "version": 3
   },
   "file_extension": ".py",
   "mimetype": "text/x-python",
   "name": "python",
   "nbconvert_exporter": "python",
   "pygments_lexer": "ipython3",
   "version": "3.9.12 (main, Apr  4 2022, 05:22:27) [MSC v.1916 64 bit (AMD64)]"
  },
  "vscode": {
   "interpreter": {
    "hash": "5179d32cf6ec497baf3f8a3ef987cc77c5d2dc691fdde20a56316522f61a7323"
   }
  }
 },
 "nbformat": 4,
 "nbformat_minor": 4
}
