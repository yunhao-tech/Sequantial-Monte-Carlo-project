{
 "cells": [
  {
   "cell_type": "code",
   "execution_count": 9,
   "metadata": {},
   "outputs": [],
   "source": [
    "import os; os.environ['TF_CPP_MIN_LOG_LEVEL'] = '1'"
   ]
  },
  {
   "cell_type": "code",
   "execution_count": 70,
   "metadata": {
    "id": "NqbO7nR95Pet"
   },
   "outputs": [],
   "source": [
    "# import particles \n",
    "import math\n",
    "import numpy as np\n",
    "import matplotlib.pyplot as plt\n",
    "import random\n",
    "from tensorflow.keras import Model\n",
    "from tensorflow.keras.models import load_model\n",
    "from tensorflow.keras.layers import Dense, Activation, Input, Lambda, Layer, Dropout\n",
    "import tensorflow as tf\n",
    "from sklearn.model_selection import train_test_split\n",
    "import pickle"
   ]
  },
  {
   "cell_type": "markdown",
   "metadata": {
    "id": "NBsaumo-5Pe5"
   },
   "source": [
    "# Build model"
   ]
  },
  {
   "cell_type": "code",
   "execution_count": 13,
   "metadata": {
    "id": "hE6X87X_5Pe5"
   },
   "outputs": [],
   "source": [
    "input_dim = 2\n",
    "latent_dim = 512\n",
    "output_dim = 2\n",
    "\n",
    "class MyDropout(Layer):\n",
    "    def __init__(self, name, latent_dim=latent_dim):\n",
    "        super().__init__(name=name)\n",
    "        self.mask = tf.Variable(np.ones(latent_dim), dtype='float32', trainable=False)\n",
    "    def call(self, inputs):\n",
    "        return inputs * self.mask\n",
    "    def update(self, mask):\n",
    "        assert mask.shape == self.mask.shape, f\"new mask shape should be {self.mask.shape} but given {mask.shape}\"\n",
    "        self.mask = tf.Variable(mask)\n",
    "        self.mask.assign(mask)\n",
    "    def get(self):\n",
    "        return self.mask.numpy()\n",
    "    # may integrate SMC in the future"
   ]
  },
  {
   "cell_type": "code",
   "execution_count": 84,
   "metadata": {
    "id": "hE6X87X_5Pe5"
   },
   "outputs": [],
   "source": [
    "class MyModel(Model):\n",
    "    def __init__(self, name):\n",
    "        super(MyModel, self).__init__(name=name)\n",
    "        # kaiming init with relu activation\n",
    "        self.initializer = tf.keras.initializers.HeNormal(seed=42)\n",
    "        self.dense1 = Dense(latent_dim, activation='relu', name='dense_1')\n",
    "        self.dense2 = Dense(latent_dim, activation='relu', name='dense_2', kernel_initializer=self.initializer)\n",
    "        self.dense3 = Dense(output_dim, name='dense_3', kernel_initializer=self.initializer)\n",
    "        # dropout for gradient descent\n",
    "        self.dropout_gd = Dropout(rate=0.5, name='dropout_gd')\n",
    "        # dropout for smc\n",
    "        self.dropout_smc = MyDropout(latent_dim=latent_dim, name='dropout_smc')\n",
    "        # flag if dropout in usual nn sense\n",
    "        self.smc = False\n",
    "\n",
    "    def call(self, inputs):\n",
    "        x = self.dense1(inputs)\n",
    "        if self.smc:\n",
    "            x = self.dropout_smc(x)\n",
    "        else:\n",
    "            x = self.dropout_gd(x)\n",
    "        x = self.dense2(x)\n",
    "        x = self.dense3(x)\n",
    "        return x\n",
    "\n",
    "    def update_dropout_mask(self, mask):\n",
    "        self.dropout.update(mask)\n",
    "\n",
    "    def get_dropout_mask(self):\n",
    "        return self.dropout.get()\n",
    "\n",
    "    def train_smc(self, flag: bool):\n",
    "        self.smc = flag\n",
    "        self.dropout_status()\n",
    "\n",
    "    def dropout_status(self):\n",
    "        print(f\"{'smc' if self.smc else 'normal'} dropout\")\n",
    "\n",
    "    # override summary due to https://stackoverflow.com/questions/55235212/model-summary-cant-print-output-shape-while-using-subclass-model\n",
    "    def summary(self):\n",
    "        x = Input(shape=(2), name='input')\n",
    "        model = Model(inputs=[x], outputs=self.call(x), name=self.name)\n",
    "        return model.summary()\n",
    "\n",
    "\n",
    "model = MyModel('Two-Link-Arm')"
   ]
  },
  {
   "cell_type": "code",
   "execution_count": 85,
   "metadata": {},
   "outputs": [
    {
     "name": "stdout",
     "output_type": "stream",
     "text": [
      "Model: \"Two-Link-Arm\"\n",
      "_________________________________________________________________\n",
      " Layer (type)                Output Shape              Param #   \n",
      "=================================================================\n",
      " input (InputLayer)          [(None, 2)]               0         \n",
      "                                                                 \n",
      " dense_1 (Dense)             (None, 512)               1536      \n",
      "                                                                 \n",
      " dropout_gd (Dropout)        (None, 512)               0         \n",
      "                                                                 \n",
      " dense_2 (Dense)             (None, 512)               262656    \n",
      "                                                                 \n",
      " dense_3 (Dense)             (None, 2)                 1026      \n",
      "                                                                 \n",
      "=================================================================\n",
      "Total params: 265,218\n",
      "Trainable params: 265,218\n",
      "Non-trainable params: 0\n",
      "_________________________________________________________________\n"
     ]
    }
   ],
   "source": [
    "model.summary()"
   ]
  },
  {
   "cell_type": "code",
   "execution_count": 86,
   "metadata": {
    "colab": {
     "base_uri": "https://localhost:8080/"
    },
    "id": "Mx9a3u7N5Pe7",
    "outputId": "f6f3c0fa-00ad-47a8-f67c-90d75b5ea1f7"
   },
   "outputs": [],
   "source": [
    "model.compile(optimizer=tf.keras.optimizers.Adam(learning_rate=1e-3), loss=tf.keras.losses.MeanSquaredError())"
   ]
  },
  {
   "cell_type": "markdown",
   "metadata": {
    "id": "QftmyIHz5Pe4"
   },
   "source": [
    "# pretraining"
   ]
  },
  {
   "cell_type": "code",
   "execution_count": 40,
   "metadata": {},
   "outputs": [],
   "source": [
    "loaded = np.load('./two_link_arm_pretraining_data.npz')\n",
    "# print(np.array_equal(angles , loaded['x']))\n",
    "# print(np.array_equal(positions , loaded['y']))\n",
    "angles = loaded['x']\n",
    "positions = loaded['y']"
   ]
  },
  {
   "cell_type": "code",
   "execution_count": 71,
   "metadata": {},
   "outputs": [],
   "source": [
    "def step_decay(epoch):\n",
    "    initial_lrate = 1e-3\n",
    "    drop = 0.5\n",
    "    epochs_drop = 10.0\n",
    "    lrate = initial_lrate * math.pow(drop, math.floor((1+epoch)/epochs_drop))\n",
    "    return lrate\n",
    "\n",
    "\n",
    "lrate = tf.keras.callbacks.LearningRateScheduler(step_decay)"
   ]
  },
  {
   "cell_type": "code",
   "execution_count": 87,
   "metadata": {
    "colab": {
     "base_uri": "https://localhost:8080/"
    },
    "id": "Mx9a3u7N5Pe7",
    "outputId": "f6f3c0fa-00ad-47a8-f67c-90d75b5ea1f7",
    "tags": []
   },
   "outputs": [
    {
     "name": "stdout",
     "output_type": "stream",
     "text": [
      "Epoch 1/100\n",
      "1172/1172 [==============================] - 11s 9ms/step - loss: 0.8476 - lr: 0.0010\n",
      "Epoch 2/100\n",
      "1172/1172 [==============================] - 12s 10ms/step - loss: 0.5020 - lr: 0.0010\n",
      "Epoch 3/100\n",
      "1172/1172 [==============================] - 12s 10ms/step - loss: 0.4413 - lr: 0.0010\n",
      "Epoch 4/100\n",
      "1172/1172 [==============================] - 11s 10ms/step - loss: 0.4146 - lr: 0.0010\n",
      "Epoch 5/100\n",
      "1172/1172 [==============================] - 11s 10ms/step - loss: 0.4009 - lr: 0.0010\n",
      "Epoch 6/100\n",
      "1172/1172 [==============================] - 12s 10ms/step - loss: 0.3918 - lr: 0.0010\n",
      "Epoch 7/100\n",
      "1172/1172 [==============================] - 12s 10ms/step - loss: 0.3852 - lr: 0.0010\n",
      "Epoch 8/100\n",
      "1172/1172 [==============================] - 11s 10ms/step - loss: 0.3799 - lr: 0.0010\n",
      "Epoch 9/100\n",
      "1172/1172 [==============================] - 12s 10ms/step - loss: 0.3754 - lr: 0.0010\n",
      "Epoch 10/100\n",
      "1172/1172 [==============================] - 12s 10ms/step - loss: 0.3605 - lr: 5.0000e-04\n",
      "Epoch 11/100\n",
      "1172/1172 [==============================] - 11s 10ms/step - loss: 0.3577 - lr: 5.0000e-04\n",
      "Epoch 12/100\n",
      "1172/1172 [==============================] - 13s 11ms/step - loss: 0.3568 - lr: 5.0000e-04\n",
      "Epoch 13/100\n",
      "1172/1172 [==============================] - 12s 10ms/step - loss: 0.3548 - lr: 5.0000e-04\n",
      "Epoch 14/100\n",
      "1172/1172 [==============================] - 10s 9ms/step - loss: 0.3532 - lr: 5.0000e-04\n",
      "Epoch 15/100\n",
      "1172/1172 [==============================] - 11s 9ms/step - loss: 0.3525 - lr: 5.0000e-04\n",
      "Epoch 16/100\n",
      "1172/1172 [==============================] - 11s 10ms/step - loss: 0.3510 - lr: 5.0000e-04\n",
      "Epoch 17/100\n",
      "1172/1172 [==============================] - 10s 8ms/step - loss: 0.3506 - lr: 5.0000e-04\n",
      "Epoch 18/100\n",
      "1172/1172 [==============================] - 10s 9ms/step - loss: 0.3490 - lr: 5.0000e-04\n",
      "Epoch 19/100\n",
      "1172/1172 [==============================] - 10s 9ms/step - loss: 0.3487 - lr: 5.0000e-04\n",
      "Epoch 20/100\n",
      "1172/1172 [==============================] - 13s 11ms/step - loss: 0.3415 - lr: 2.5000e-04\n",
      "Epoch 21/100\n",
      "1172/1172 [==============================] - 14s 12ms/step - loss: 0.3412 - lr: 2.5000e-04\n",
      "Epoch 22/100\n",
      "1172/1172 [==============================] - 15s 13ms/step - loss: 0.3404 - lr: 2.5000e-04\n",
      "Epoch 23/100\n",
      "1172/1172 [==============================] - 12s 10ms/step - loss: 0.3400 - lr: 2.5000e-04\n",
      "Epoch 24/100\n",
      "1172/1172 [==============================] - 11s 9ms/step - loss: 0.3392 - lr: 2.5000e-04\n",
      "Epoch 25/100\n",
      "1172/1172 [==============================] - 12s 10ms/step - loss: 0.3385 - lr: 2.5000e-04\n",
      "Epoch 26/100\n",
      "1172/1172 [==============================] - 14s 12ms/step - loss: 0.3391 - lr: 2.5000e-04\n",
      "Epoch 27/100\n",
      "1172/1172 [==============================] - 12s 10ms/step - loss: 0.3382 - lr: 2.5000e-04\n",
      "Epoch 28/100\n",
      "1172/1172 [==============================] - 13s 11ms/step - loss: 0.3377 - lr: 2.5000e-04\n",
      "Epoch 29/100\n",
      "1172/1172 [==============================] - 16s 13ms/step - loss: 0.3374 - lr: 2.5000e-04\n",
      "Epoch 30/100\n",
      "1172/1172 [==============================] - 14s 12ms/step - loss: 0.3348 - lr: 1.2500e-04\n",
      "Epoch 31/100\n",
      "1172/1172 [==============================] - 12s 10ms/step - loss: 0.3330 - lr: 1.2500e-04\n",
      "Epoch 32/100\n",
      "1172/1172 [==============================] - 10s 9ms/step - loss: 0.3330 - lr: 1.2500e-04\n",
      "Epoch 33/100\n",
      "1172/1172 [==============================] - 13s 11ms/step - loss: 0.3335 - lr: 1.2500e-04\n",
      "Epoch 34/100\n",
      "1172/1172 [==============================] - 11s 9ms/step - loss: 0.3324 - lr: 1.2500e-04\n",
      "Epoch 35/100\n",
      "1172/1172 [==============================] - 10s 8ms/step - loss: 0.3323 - lr: 1.2500e-04\n",
      "Epoch 36/100\n",
      "1172/1172 [==============================] - 10s 9ms/step - loss: 0.3329 - lr: 1.2500e-04\n",
      "Epoch 37/100\n",
      "1172/1172 [==============================] - 10s 9ms/step - loss: 0.3324 - lr: 1.2500e-04\n",
      "Epoch 38/100\n",
      "1172/1172 [==============================] - 10s 9ms/step - loss: 0.3323 - lr: 1.2500e-04\n",
      "Epoch 39/100\n",
      "1172/1172 [==============================] - 11s 9ms/step - loss: 0.3323 - lr: 1.2500e-04\n",
      "Epoch 40/100\n",
      "1172/1172 [==============================] - 12s 10ms/step - loss: 0.3305 - lr: 6.2500e-05\n",
      "Epoch 41/100\n",
      "1172/1172 [==============================] - 11s 9ms/step - loss: 0.3305 - lr: 6.2500e-05\n",
      "Epoch 42/100\n",
      "1172/1172 [==============================] - 13s 11ms/step - loss: 0.3300 - lr: 6.2500e-05\n",
      "Epoch 43/100\n",
      "1172/1172 [==============================] - 10s 9ms/step - loss: 0.3299 - lr: 6.2500e-05\n",
      "Epoch 44/100\n",
      "1172/1172 [==============================] - 11s 9ms/step - loss: 0.3298 - lr: 6.2500e-05\n",
      "Epoch 45/100\n",
      "1172/1172 [==============================] - 11s 9ms/step - loss: 0.3298 - lr: 6.2500e-05\n",
      "Epoch 46/100\n",
      "1172/1172 [==============================] - 11s 9ms/step - loss: 0.3294 - lr: 6.2500e-05\n",
      "Epoch 47/100\n",
      "1172/1172 [==============================] - 11s 9ms/step - loss: 0.3295 - lr: 6.2500e-05\n",
      "Epoch 48/100\n",
      "1172/1172 [==============================] - 10s 8ms/step - loss: 0.3292 - lr: 6.2500e-05\n",
      "Epoch 49/100\n",
      "1172/1172 [==============================] - 11s 9ms/step - loss: 0.3293 - lr: 6.2500e-05\n",
      "Epoch 50/100\n",
      "1172/1172 [==============================] - 11s 9ms/step - loss: 0.3285 - lr: 3.1250e-05\n",
      "Epoch 51/100\n",
      "1172/1172 [==============================] - 11s 9ms/step - loss: 0.3286 - lr: 3.1250e-05\n",
      "Epoch 52/100\n",
      "1172/1172 [==============================] - 10s 9ms/step - loss: 0.3282 - lr: 3.1250e-05\n",
      "Epoch 53/100\n",
      "1172/1172 [==============================] - 11s 9ms/step - loss: 0.3278 - lr: 3.1250e-05\n",
      "Epoch 54/100\n",
      "1172/1172 [==============================] - 11s 9ms/step - loss: 0.3279 - lr: 3.1250e-05\n",
      "Epoch 55/100\n",
      "1172/1172 [==============================] - 12s 10ms/step - loss: 0.3285 - lr: 3.1250e-05\n",
      "Epoch 56/100\n",
      "1172/1172 [==============================] - 11s 9ms/step - loss: 0.3281 - lr: 3.1250e-05\n",
      "Epoch 57/100\n",
      "1172/1172 [==============================] - 11s 10ms/step - loss: 0.3275 - lr: 3.1250e-05\n",
      "Epoch 58/100\n",
      "1172/1172 [==============================] - 13s 11ms/step - loss: 0.3279 - lr: 3.1250e-05\n",
      "Epoch 59/100\n",
      "1172/1172 [==============================] - 14s 12ms/step - loss: 0.3274 - lr: 3.1250e-05\n",
      "Epoch 60/100\n",
      "1172/1172 [==============================] - 13s 11ms/step - loss: 0.3270 - lr: 1.5625e-05\n",
      "Epoch 61/100\n",
      "1172/1172 [==============================] - 11s 9ms/step - loss: 0.3273 - lr: 1.5625e-05\n",
      "Epoch 62/100\n",
      "1172/1172 [==============================] - 11s 10ms/step - loss: 0.3272 - lr: 1.5625e-05\n",
      "Epoch 63/100\n",
      "1172/1172 [==============================] - 11s 10ms/step - loss: 0.3271 - lr: 1.5625e-05\n",
      "Epoch 64/100\n",
      "1172/1172 [==============================] - 11s 9ms/step - loss: 0.3272 - lr: 1.5625e-05\n",
      "Epoch 65/100\n",
      "1172/1172 [==============================] - 11s 9ms/step - loss: 0.3271 - lr: 1.5625e-05\n",
      "Epoch 66/100\n",
      "1172/1172 [==============================] - 12s 10ms/step - loss: 0.3271 - lr: 1.5625e-05\n",
      "Epoch 67/100\n",
      "1172/1172 [==============================] - 12s 10ms/step - loss: 0.3271 - lr: 1.5625e-05\n",
      "Epoch 68/100\n",
      "1172/1172 [==============================] - 11s 9ms/step - loss: 0.3272 - lr: 1.5625e-05\n",
      "Epoch 69/100\n",
      "1172/1172 [==============================] - 10s 9ms/step - loss: 0.3272 - lr: 1.5625e-05\n",
      "Epoch 70/100\n",
      "1172/1172 [==============================] - 12s 11ms/step - loss: 0.3267 - lr: 7.8125e-06\n",
      "Epoch 71/100\n",
      "1172/1172 [==============================] - 11s 10ms/step - loss: 0.3265 - lr: 7.8125e-06\n",
      "Epoch 72/100\n",
      "1172/1172 [==============================] - 11s 10ms/step - loss: 0.3269 - lr: 7.8125e-06\n",
      "Epoch 73/100\n",
      "1172/1172 [==============================] - 11s 9ms/step - loss: 0.3269 - lr: 7.8125e-06\n",
      "Epoch 74/100\n",
      "1172/1172 [==============================] - 12s 10ms/step - loss: 0.3269 - lr: 7.8125e-06\n",
      "Epoch 75/100\n",
      "1172/1172 [==============================] - 11s 9ms/step - loss: 0.3271 - lr: 7.8125e-06\n",
      "Epoch 76/100\n",
      "1172/1172 [==============================] - 13s 11ms/step - loss: 0.3265 - lr: 7.8125e-06\n",
      "Epoch 77/100\n",
      "1172/1172 [==============================] - 11s 10ms/step - loss: 0.3265 - lr: 7.8125e-06\n",
      "Epoch 78/100\n",
      "1172/1172 [==============================] - 11s 9ms/step - loss: 0.3272 - lr: 7.8125e-06\n",
      "Epoch 79/100\n",
      "1172/1172 [==============================] - 12s 10ms/step - loss: 0.3266 - lr: 7.8125e-06\n",
      "Epoch 80/100\n",
      "1172/1172 [==============================] - 13s 11ms/step - loss: 0.3268 - lr: 3.9063e-06\n",
      "Epoch 81/100\n",
      "1172/1172 [==============================] - 12s 10ms/step - loss: 0.3272 - lr: 3.9063e-06\n",
      "Epoch 82/100\n",
      "1172/1172 [==============================] - 12s 10ms/step - loss: 0.3268 - lr: 3.9063e-06\n",
      "Epoch 83/100\n",
      "1172/1172 [==============================] - 12s 10ms/step - loss: 0.3260 - lr: 3.9063e-06\n",
      "Epoch 84/100\n",
      "1172/1172 [==============================] - 13s 11ms/step - loss: 0.3267 - lr: 3.9063e-06\n",
      "Epoch 85/100\n",
      "1172/1172 [==============================] - 13s 12ms/step - loss: 0.3266 - lr: 3.9063e-06\n",
      "Epoch 86/100\n",
      "1172/1172 [==============================] - 12s 11ms/step - loss: 0.3270 - lr: 3.9063e-06\n",
      "Epoch 87/100\n",
      "1172/1172 [==============================] - 12s 11ms/step - loss: 0.3265 - lr: 3.9063e-06\n",
      "Epoch 88/100\n",
      "1172/1172 [==============================] - 14s 12ms/step - loss: 0.3268 - lr: 3.9063e-06\n",
      "Epoch 89/100\n",
      "1172/1172 [==============================] - 12s 10ms/step - loss: 0.3265 - lr: 3.9063e-06\n",
      "Epoch 90/100\n",
      "1172/1172 [==============================] - 11s 9ms/step - loss: 0.3266 - lr: 1.9531e-06\n",
      "Epoch 91/100\n",
      "1172/1172 [==============================] - 11s 9ms/step - loss: 0.3266 - lr: 1.9531e-06\n",
      "Epoch 92/100\n",
      "1172/1172 [==============================] - 13s 11ms/step - loss: 0.3262 - lr: 1.9531e-06\n",
      "Epoch 93/100\n",
      "1172/1172 [==============================] - 12s 11ms/step - loss: 0.3263 - lr: 1.9531e-06\n",
      "Epoch 94/100\n",
      "1172/1172 [==============================] - 12s 10ms/step - loss: 0.3263 - lr: 1.9531e-06\n",
      "Epoch 95/100\n",
      "1172/1172 [==============================] - 12s 10ms/step - loss: 0.3258 - lr: 1.9531e-06\n",
      "Epoch 96/100\n",
      "1172/1172 [==============================] - 14s 12ms/step - loss: 0.3270 - lr: 1.9531e-06\n",
      "Epoch 97/100\n",
      "1172/1172 [==============================] - 13s 11ms/step - loss: 0.3269 - lr: 1.9531e-06\n",
      "Epoch 98/100\n",
      "1172/1172 [==============================] - 14s 12ms/step - loss: 0.3266 - lr: 1.9531e-06\n",
      "Epoch 99/100\n",
      "1172/1172 [==============================] - 12s 10ms/step - loss: 0.3264 - lr: 1.9531e-06\n",
      "Epoch 100/100\n",
      "1172/1172 [==============================] - 11s 9ms/step - loss: 0.3268 - lr: 9.7656e-07\n",
      "WARNING:tensorflow:Skipping full serialization of Keras layer <__main__.MyDropout object at 0x7f1c3d7c7520>, because it is not built.\n",
      "INFO:tensorflow:Assets written to: ./two_link_arm_pretrained_M.model/assets\n"
     ]
    }
   ],
   "source": [
    "# multitask\n",
    "history = model.fit(angles, positions, epochs=100, batch_size=128, shuffle=True, callbacks=lrate)\n",
    "model.save('./two_link_arm_pretrained_M.model')\n",
    "with open('./two_link_arm_pretrained_M.history','wb') as f:\n",
    "    pickle.dump(history.history, f)"
   ]
  },
  {
   "cell_type": "code",
   "execution_count": 88,
   "metadata": {},
   "outputs": [],
   "source": [
    "loss = history.history['loss']"
   ]
  },
  {
   "cell_type": "code",
   "execution_count": 89,
   "metadata": {},
   "outputs": [
    {
     "data": {
      "text/plain": [
       "[<matplotlib.lines.Line2D at 0x7f1c3d787850>]"
      ]
     },
     "execution_count": 89,
     "metadata": {},
     "output_type": "execute_result"
    },
    {
     "data": {
      "image/png": "[encoded data removed]",
      "text/plain": [
       "<Figure size 640x480 with 1 Axes>"
      ]
     },
     "metadata": {},
     "output_type": "display_data"
    }
   ],
   "source": [
    "plt.plot(loss)"
   ]
  },
  {
   "cell_type": "code",
   "execution_count": 90,
   "metadata": {
    "tags": []
   },
   "outputs": [],
   "source": [
    "pretrained = tf.keras.models.load_model('two_link_arm_pretrained_M.model')"
   ]
  }
 ],
 "metadata": {
  "accelerator": "GPU",
  "colab": {
   "provenance": []
  },
  "gpuClass": "standard",
  "kernelspec": {
   "display_name": "base",
   "language": "python",
   "name": "python3"
  },
  "language_info": {
   "codemirror_mode": {
    "name": "ipython",
    "version": 3
   },
   "file_extension": ".py",
   "mimetype": "text/x-python",
   "name": "python",
   "nbconvert_exporter": "python",
   "pygments_lexer": "ipython3",
   "version": "3.8.3 (default, Jul  2 2020, 17:30:36) [MSC v.1916 64 bit (AMD64)]"
  },
  "vscode": {
   "interpreter": {
    "hash": "9e9dd1ae481486d48c9db6dc9dc7a9a7f82b64eba274b60c6e858d1cb03bdb70"
   }
  }
 },
 "nbformat": 4,
 "nbformat_minor": 4
}
