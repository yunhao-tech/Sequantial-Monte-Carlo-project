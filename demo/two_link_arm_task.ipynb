{
 "cells": [
  {
   "cell_type": "code",
   "execution_count": 1,
   "metadata": {
    "id": "NqbO7nR95Pet"
   },
   "outputs": [],
   "source": [
    "# import particles \n",
    "import numpy as np\n",
    "import matplotlib.pyplot as plt\n",
    "import random\n",
    "from tensorflow.keras import Model\n",
    "from tensorflow.keras.layers import Dense, Activation, Dropout, Input\n",
    "import tensorflow as tf\n",
    "from sklearn.model_selection import train_test_split"
   ]
  },
  {
   "cell_type": "code",
   "execution_count": 2,
   "metadata": {
    "id": "LfVBmcZZ5Pez"
   },
   "outputs": [],
   "source": [
    "# def next_angle(q, u):\n",
    "#     # q_init: array (2,) containing the inital angles\n",
    "#     # u:      array (2,) containing the change rate\n",
    "#     return q + u\n",
    "\n",
    "# def current_position(q, l):\n",
    "#     # q: array (2,) containing the two angles\n",
    "#     # l: array (2,) containing the limb lengths \n",
    "#     x = l * np.cos(q[0]) + l * np.cos(q[0] + q[1])\n",
    "#     y = l * np.sin(q[0]) + l * np.sin(q[0] + q[1])\n",
    "#     return np.array([x, y])\n",
    "\n",
    "def current_position(q, l):\n",
    "    # q: array (2,) containing the two angles\n",
    "    # l: array (2,) containing the limb lengths \n",
    "    x = l[0] * np.cos(q[0]) + l[1] * np.cos(q[0] + q[1])\n",
    "    y = l[0] * np.sin(q[0]) + l[1] * np.sin(q[0] + q[1])\n",
    "    return np.array([x, y])"
   ]
  },
  {
   "cell_type": "markdown",
   "metadata": {
    "id": "iiTA-Cwr5Pey"
   },
   "source": [
    "# Data Simulation"
   ]
  },
  {
   "cell_type": "code",
   "execution_count": 11,
   "metadata": {},
   "outputs": [],
   "source": [
    "# def generate_one_task(limb_length, n_episode=150, n_timesteps=10):\n",
    "#     dof = 2\n",
    "#     angles = list()\n",
    "#     positions = list()\n",
    "#     for _ in range(n_episode):\n",
    "#         q = np.random.uniform(low= -np.pi, high= np.pi, size=dof) # observation, the angle, uniform [-pi, pi]\n",
    "#         angles.append(q)\n",
    "#         u = np.random.randn(dof, n_timesteps) # action, the change rate of angles\n",
    "#         q += u.sum(axis=1)\n",
    "#         position = current_position(q, limb_length)\n",
    "#         positions.append(position)\n",
    "    \n",
    "#     return positions, angles"
   ]
  },
  {
   "cell_type": "code",
   "execution_count": 3,
   "metadata": {
    "id": "2yQdn94R5Pe0"
   },
   "outputs": [],
   "source": [
    "n_tasks=1000 \n",
    "n_episode=150\n",
    "n_timesteps=10\n",
    "\n",
    "def simulate_data(n_tasks=1000, n_episode=150, n_timesteps=10):\n",
    "    dof = 2\n",
    "    angles = list()\n",
    "    positions = list()\n",
    "    # generate limb length for each task\n",
    "    lens = np.random.normal(loc=1, scale=np.sqrt(0.3), size=(n_tasks, 2))\n",
    "    for i in range(n_tasks):\n",
    "        # position, angle = generate_one_task(lens[i], n_episode=150, n_timesteps=10)\n",
    "        limb_length = lens[i]\n",
    "        for _ in range(n_episode):\n",
    "            q = np.random.uniform(low= -np.pi, high= np.pi, size=dof) # observation, the angle, uniform [-pi, pi]\n",
    "            angles.append(q)\n",
    "            u = np.random.randn(dof, n_timesteps) # action, the change rate of angles\n",
    "            q += u.sum(axis=1)\n",
    "            position = current_position(q, limb_length)\n",
    "            positions.append(position)\n",
    "        # angles.extend(angle)\n",
    "        # positions.extend(position)\n",
    "\n",
    "    angles = np.stack(angles, axis=0)\n",
    "    positions = np.stack(positions, axis=0)\n",
    "\n",
    "    assert angles.shape == positions.shape # their shape should be both (n_tasks*n_episode*n_timesteps, 2)\n",
    "    return positions, angles"
   ]
  },
  {
   "cell_type": "code",
   "execution_count": 4,
   "metadata": {},
   "outputs": [],
   "source": [
    "positions, angles = simulate_data()"
   ]
  },
  {
   "cell_type": "code",
   "execution_count": 5,
   "metadata": {
    "colab": {
     "base_uri": "https://localhost:8080/"
    },
    "id": "9q9-Jzo8GjrB",
    "outputId": "bf0938ce-478e-4448-a019-bd13e9b4ebc0"
   },
   "outputs": [
    {
     "data": {
      "text/plain": [
       "((150000, 2), (150000, 2))"
      ]
     },
     "execution_count": 5,
     "metadata": {},
     "output_type": "execute_result"
    }
   ],
   "source": [
    "positions.shape, angles.shape"
   ]
  },
  {
   "cell_type": "code",
   "execution_count": 13,
   "metadata": {},
   "outputs": [],
   "source": [
    "np.savez_compressed('./two_link_arm_pretraining_data.npz',x=angles,y=positions)"
   ]
  },
  {
   "cell_type": "markdown",
   "metadata": {
    "id": "NBsaumo-5Pe5"
   },
   "source": [
    "# Build model"
   ]
  },
  {
   "cell_type": "code",
   "execution_count": 4,
   "metadata": {
    "id": "hE6X87X_5Pe5"
   },
   "outputs": [
    {
     "name": "stderr",
     "output_type": "stream",
     "text": [
      "2022-12-21 13:54:22.061853: I tensorflow/core/platform/cpu_feature_guard.cc:193] This TensorFlow binary is optimized with oneAPI Deep Neural Network Library (oneDNN) to use the following CPU instructions in performance-critical operations:  SSE4.1 SSE4.2 AVX AVX2 AVX512F FMA\n",
      "To enable them in other operations, rebuild TensorFlow with the appropriate compiler flags.\n"
     ]
    }
   ],
   "source": [
    "input_length = 2\n",
    "latent_dim = 512\n",
    "output_length = 2\n",
    "\n",
    "model = tf.keras.Sequential([\n",
    "    Dense(512, activation='relu', input_shape=(input_length,)),\n",
    "    Dropout(rate=0.5),\n",
    "    Dense(units=latent_dim, activation='tanh'),\n",
    "    Dense(units=output_length),\n",
    "  ])"
   ]
  },
  {
   "cell_type": "code",
   "execution_count": 5,
   "metadata": {
    "colab": {
     "base_uri": "https://localhost:8080/"
    },
    "id": "_LE4jGJ55Pe6",
    "outputId": "a902d9ce-cb3d-4965-aeea-2254927de0e3"
   },
   "outputs": [
    {
     "name": "stdout",
     "output_type": "stream",
     "text": [
      "Model: \"sequential\"\n",
      "_________________________________________________________________\n",
      " Layer (type)                Output Shape              Param #   \n",
      "=================================================================\n",
      " input_1 (InputLayer)        [(None, 2)]               0         \n",
      "                                                                 \n",
      " dense (Dense)               (None, 512)               1536      \n",
      "                                                                 \n",
      " dropout (Dropout)           (None, 512)               0         \n",
      "                                                                 \n",
      " dense_1 (Dense)             (None, 512)               262656    \n",
      "                                                                 \n",
      " dense_2 (Dense)             (None, 2)                 1026      \n",
      "                                                                 \n",
      "=================================================================\n",
      "Total params: 265,218\n",
      "Trainable params: 265,218\n",
      "Non-trainable params: 0\n",
      "_________________________________________________________________\n"
     ]
    }
   ],
   "source": [
    "model.summary()"
   ]
  },
  {
   "cell_type": "code",
   "execution_count": 17,
   "metadata": {
    "colab": {
     "base_uri": "https://localhost:8080/"
    },
    "id": "Mx9a3u7N5Pe7",
    "outputId": "f6f3c0fa-00ad-47a8-f67c-90d75b5ea1f7"
   },
   "outputs": [],
   "source": [
    "model.compile(optimizer=tf.keras.optimizers.Adam(learning_rate=1e-3),\n",
    "            loss=tf.keras.losses.MeanSquaredError(),\n",
    "            metrics=[tf.keras.metrics.MeanAbsoluteError()])"
   ]
  },
  {
   "cell_type": "code",
   "execution_count": null,
   "metadata": {},
   "outputs": [],
   "source": []
  },
  {
   "attachments": {},
   "cell_type": "markdown",
   "metadata": {
    "id": "QftmyIHz5Pe4"
   },
   "source": [
    "# pretraining multi-task"
   ]
  },
  {
   "cell_type": "code",
   "execution_count": 63,
   "metadata": {},
   "outputs": [],
   "source": [
    "loaded = np.load('./two_link_arm_pretraining_data.npz')\n",
    "# print(np.array_equal(angles , loaded['x']))\n",
    "# print(np.array_equal(positions , loaded['y']))\n",
    "angles = loaded['x']\n",
    "positions = loaded['y']"
   ]
  },
  {
   "cell_type": "code",
   "execution_count": 64,
   "metadata": {},
   "outputs": [],
   "source": [
    "test_ratio = 0.1"
   ]
  },
  {
   "cell_type": "code",
   "execution_count": 71,
   "metadata": {},
   "outputs": [
    {
     "name": "stdout",
     "output_type": "stream",
     "text": [
      "Epoch 1/5\n",
      "1055/1055 [==============================] - 5s 5ms/step - loss: 0.9519 - mean_absolute_error: 0.7618 - val_loss: 0.5816 - val_mean_absolute_error: 0.5850\n",
      "Epoch 2/5\n",
      "1055/1055 [==============================] - 5s 4ms/step - loss: 0.5368 - mean_absolute_error: 0.5597 - val_loss: 0.4297 - val_mean_absolute_error: 0.4977\n",
      "Epoch 3/5\n",
      "1055/1055 [==============================] - 5s 5ms/step - loss: 0.4500 - mean_absolute_error: 0.5138 - val_loss: 0.3852 - val_mean_absolute_error: 0.4733\n",
      "Epoch 4/5\n",
      "1055/1055 [==============================] - 6s 5ms/step - loss: 0.4162 - mean_absolute_error: 0.4962 - val_loss: 0.3576 - val_mean_absolute_error: 0.4568\n",
      "Epoch 5/5\n",
      "1055/1055 [==============================] - 5s 5ms/step - loss: 0.3961 - mean_absolute_error: 0.4852 - val_loss: 0.3504 - val_mean_absolute_error: 0.4554\n"
     ]
    },
    {
     "data": {
      "text/plain": [
       "<keras.callbacks.History at 0x19552341be0>"
      ]
     },
     "execution_count": 71,
     "metadata": {},
     "output_type": "execute_result"
    }
   ],
   "source": [
    "x_train, x_test, y_train, y_test = train_test_split(angles, positions, test_size=test_ratio, random_state=666)\n",
    "model.fit(x_train, y_train, epochs=5, batch_size=128)"
   ]
  },
  {
   "cell_type": "code",
   "execution_count": 73,
   "metadata": {},
   "outputs": [],
   "source": [
    "pretrained = tf.keras.models.load_model('saved_model/my_model')"
   ]
  },
  {
   "cell_type": "code",
   "execution_count": 38,
   "metadata": {},
   "outputs": [],
   "source": [
    "loss = history.history['loss']"
   ]
  },
  {
   "cell_type": "code",
   "execution_count": 39,
   "metadata": {},
   "outputs": [
    {
     "data": {
      "text/plain": [
       "[<matplotlib.lines.Line2D at 0x7fe9e139bca0>]"
      ]
     },
     "execution_count": 39,
     "metadata": {},
     "output_type": "execute_result"
    },
    {
     "data": {
      "image/png": "[encoded data removed]",
      "text/plain": [
       "<Figure size 640x480 with 1 Axes>"
      ]
     },
     "metadata": {},
     "output_type": "display_data"
    }
   ],
   "source": [
    "plt.plot(loss)"
   ]
  },
  {
   "cell_type": "code",
   "execution_count": 17,
   "metadata": {},
   "outputs": [],
   "source": [
    "def plot_model(model):\n",
    "    loss = model.history.history['loss']\n",
    "    plt.plot(loss)"
   ]
  },
  {
   "cell_type": "code",
   "execution_count": 18,
   "metadata": {},
   "outputs": [
    {
     "data": {
      "image/png": "[encoded data removed]",
      "text/plain": [
       "<Figure size 640x480 with 1 Axes>"
      ]
     },
     "metadata": {},
     "output_type": "display_data"
    }
   ],
   "source": [
    "plot_model(model)"
   ]
  },
  {
   "cell_type": "code",
   "execution_count": null,
   "metadata": {},
   "outputs": [],
   "source": []
  },
  {
   "attachments": {},
   "cell_type": "markdown",
   "metadata": {
    "id": "QftmyIHz5Pe4"
   },
   "source": [
    "# pretraining reptile"
   ]
  },
  {
   "cell_type": "code",
   "execution_count": 29,
   "metadata": {
    "id": "hE6X87X_5Pe5"
   },
   "outputs": [],
   "source": [
    "input_length = 2\n",
    "latent_dim = 512\n",
    "output_length = 2\n",
    "\n",
    "model = tf.keras.Sequential([\n",
    "    Dense(512, activation='relu', input_shape=(input_length,)),\n",
    "    Dropout(rate=0.5),\n",
    "    Dense(units=latent_dim, activation='tanh'),\n",
    "    Dense(units=output_length),\n",
    "  ])"
   ]
  },
  {
   "cell_type": "code",
   "execution_count": 30,
   "metadata": {},
   "outputs": [],
   "source": [
    "n_tasks = 1000\n",
    "n_episode = 150 \n",
    "meta_step_size = 0.25\n",
    "eval_interval = 1\n",
    "epochs = 200\n",
    "\n",
    "model.compile()\n",
    "optimizer = tf.keras.optimizers.Adam(learning_rate=1e-3)\n",
    "loss_mse = tf.keras.losses.MeanSquaredError()"
   ]
  },
  {
   "attachments": {},
   "cell_type": "markdown",
   "metadata": {},
   "source": [
    "Code Adapted from [Few-Shot learning with Reptile](https://keras.io/examples/vision/reptile/)"
   ]
  },
  {
   "cell_type": "code",
   "execution_count": 31,
   "metadata": {},
   "outputs": [
    {
     "name": "stdout",
     "output_type": "stream",
     "text": [
      "Epoch: 1: training MSE = 1.0808132886886597\n",
      "Epoch: 2: training MSE = 0.7943138480186462\n",
      "Epoch: 3: training MSE = 0.6687605977058411\n",
      "Epoch: 4: training MSE = 0.6011272072792053\n",
      "Epoch: 5: training MSE = 0.5563327670097351\n",
      "Epoch: 6: training MSE = 0.5227055549621582\n",
      "Epoch: 7: training MSE = 0.49640318751335144\n",
      "Epoch: 8: training MSE = 0.4751602113246918\n",
      "Epoch: 9: training MSE = 0.45748549699783325\n",
      "Epoch: 10: training MSE = 0.4424794316291809\n",
      "Epoch: 11: training MSE = 0.4296622574329376\n",
      "Epoch: 12: training MSE = 0.41859424114227295\n",
      "Epoch: 13: training MSE = 0.40897098183631897\n",
      "Epoch: 14: training MSE = 0.4005781412124634\n",
      "Epoch: 15: training MSE = 0.3932211697101593\n",
      "Epoch: 16: training MSE = 0.3867909610271454\n",
      "Epoch: 17: training MSE = 0.3810650408267975\n",
      "Epoch: 18: training MSE = 0.37593504786491394\n",
      "Epoch: 19: training MSE = 0.3713417947292328\n",
      "Epoch: 20: training MSE = 0.36721208691596985\n",
      "Epoch: 21: training MSE = 0.36345189809799194\n",
      "Epoch: 22: training MSE = 0.35996922850608826\n",
      "Epoch: 23: training MSE = 0.3567415475845337\n",
      "Epoch: 24: training MSE = 0.3538821339607239\n",
      "Epoch: 25: training MSE = 0.35124340653419495\n",
      "Epoch: 26: training MSE = 0.3488081693649292\n",
      "Epoch: 27: training MSE = 0.34657129645347595\n",
      "Epoch: 28: training MSE = 0.34453606605529785\n",
      "Epoch: 29: training MSE = 0.3426591157913208\n",
      "Epoch: 30: training MSE = 0.3409125506877899\n",
      "Epoch: 31: training MSE = 0.33932358026504517\n",
      "Epoch: 32: training MSE = 0.337862491607666\n",
      "Epoch: 33: training MSE = 0.33649492263793945\n",
      "Epoch: 34: training MSE = 0.33523303270339966\n",
      "Epoch: 35: training MSE = 0.3340457081794739\n",
      "Epoch: 36: training MSE = 0.3329201638698578\n",
      "Epoch: 37: training MSE = 0.33185651898384094\n",
      "Epoch: 38: training MSE = 0.33083412051200867\n",
      "Epoch: 39: training MSE = 0.32987844944000244\n",
      "Epoch: 40: training MSE = 0.3289918005466461\n",
      "Epoch: 41: training MSE = 0.3281542956829071\n",
      "Epoch: 42: training MSE = 0.3273490369319916\n",
      "Epoch: 43: training MSE = 0.32659465074539185\n",
      "Epoch: 44: training MSE = 0.32587748765945435\n",
      "Epoch: 45: training MSE = 0.32520154118537903\n",
      "Epoch: 46: training MSE = 0.32455798983573914\n",
      "Epoch: 47: training MSE = 0.3239491879940033\n",
      "Epoch: 48: training MSE = 0.32336297631263733\n",
      "Epoch: 49: training MSE = 0.3227981925010681\n",
      "Epoch: 50: training MSE = 0.32224902510643005\n",
      "Epoch: 51: training MSE = 0.3217368423938751\n",
      "Epoch: 52: training MSE = 0.3212517201900482\n",
      "Epoch: 53: training MSE = 0.3207899034023285\n",
      "Epoch: 54: training MSE = 0.32034623622894287\n",
      "Epoch: 55: training MSE = 0.31992003321647644\n",
      "Epoch: 56: training MSE = 0.3195110857486725\n",
      "Epoch: 57: training MSE = 0.3191154897212982\n",
      "Epoch: 58: training MSE = 0.3187381625175476\n",
      "Epoch: 59: training MSE = 0.31837189197540283\n",
      "Epoch: 60: training MSE = 0.31801897287368774\n",
      "Epoch: 61: training MSE = 0.31767499446868896\n",
      "Epoch: 62: training MSE = 0.3173491954803467\n",
      "Epoch: 63: training MSE = 0.3170194625854492\n",
      "Epoch: 64: training MSE = 0.3167065382003784\n",
      "Epoch: 65: training MSE = 0.31640106439590454\n",
      "Epoch: 66: training MSE = 0.31611499190330505\n",
      "Epoch: 67: training MSE = 0.3158327639102936\n",
      "Epoch: 68: training MSE = 0.3155592679977417\n",
      "Epoch: 69: training MSE = 0.31529754400253296\n",
      "Epoch: 70: training MSE = 0.31504371762275696\n",
      "Epoch: 71: training MSE = 0.3147951066493988\n",
      "Epoch: 72: training MSE = 0.314554363489151\n",
      "Epoch: 73: training MSE = 0.3143206238746643\n",
      "Epoch: 74: training MSE = 0.3140934407711029\n",
      "Epoch: 75: training MSE = 0.3138742446899414\n",
      "Epoch: 76: training MSE = 0.3136574625968933\n",
      "Epoch: 77: training MSE = 0.31344884634017944\n",
      "Epoch: 78: training MSE = 0.3132416903972626\n",
      "Epoch: 79: training MSE = 0.3130328357219696\n",
      "Epoch: 80: training MSE = 0.31283771991729736\n",
      "Epoch: 81: training MSE = 0.3126450777053833\n",
      "Epoch: 82: training MSE = 0.31245800852775574\n",
      "Epoch: 83: training MSE = 0.31227558851242065\n",
      "Epoch: 84: training MSE = 0.3121078610420227\n",
      "Epoch: 85: training MSE = 0.3119407892227173\n",
      "Epoch: 86: training MSE = 0.3117789626121521\n",
      "Epoch: 87: training MSE = 0.3116171956062317\n",
      "Epoch: 88: training MSE = 0.31146112084388733\n",
      "Epoch: 89: training MSE = 0.31130754947662354\n",
      "Epoch: 90: training MSE = 0.3111564815044403\n",
      "Epoch: 91: training MSE = 0.31101641058921814\n",
      "Epoch: 92: training MSE = 0.3108799457550049\n",
      "Epoch: 93: training MSE = 0.31074267625808716\n",
      "Epoch: 94: training MSE = 0.31061455607414246\n",
      "Epoch: 95: training MSE = 0.3104846477508545\n",
      "Epoch: 96: training MSE = 0.31035614013671875\n",
      "Epoch: 97: training MSE = 0.31023573875427246\n",
      "Epoch: 98: training MSE = 0.31011801958084106\n",
      "Epoch: 99: training MSE = 0.30999982357025146\n",
      "Epoch: 100: training MSE = 0.3098878860473633\n",
      "Epoch: 101: training MSE = 0.30977538228034973\n",
      "Epoch: 102: training MSE = 0.3096718490123749\n",
      "Epoch: 103: training MSE = 0.30956122279167175\n",
      "Epoch: 104: training MSE = 0.30945661664009094\n",
      "Epoch: 105: training MSE = 0.30935364961624146\n",
      "Epoch: 106: training MSE = 0.3092556297779083\n",
      "Epoch: 107: training MSE = 0.30915746092796326\n",
      "Epoch: 108: training MSE = 0.3090670704841614\n",
      "Epoch: 109: training MSE = 0.30897265672683716\n",
      "Epoch: 110: training MSE = 0.3088829517364502\n"
     ]
    },
    {
     "ename": "KeyboardInterrupt",
     "evalue": "",
     "output_type": "error",
     "traceback": [
      "\u001b[1;31m---------------------------------------------------------------------------\u001b[0m",
      "\u001b[1;31mKeyboardInterrupt\u001b[0m                         Traceback (most recent call last)",
      "\u001b[1;32m<ipython-input-31-63cbdd85ff2a>\u001b[0m in \u001b[0;36m<module>\u001b[1;34m\u001b[0m\n\u001b[0;32m     28\u001b[0m             \u001b[0mloss\u001b[0m \u001b[1;33m=\u001b[0m \u001b[0mloss_mse\u001b[0m\u001b[1;33m(\u001b[0m\u001b[0my_train\u001b[0m\u001b[1;33m,\u001b[0m \u001b[0mpreds\u001b[0m\u001b[1;33m)\u001b[0m\u001b[1;33m\u001b[0m\u001b[1;33m\u001b[0m\u001b[0m\n\u001b[0;32m     29\u001b[0m         \u001b[0mgrads\u001b[0m \u001b[1;33m=\u001b[0m \u001b[0mtape\u001b[0m\u001b[1;33m.\u001b[0m\u001b[0mgradient\u001b[0m\u001b[1;33m(\u001b[0m\u001b[0mloss\u001b[0m\u001b[1;33m,\u001b[0m \u001b[0mmodel\u001b[0m\u001b[1;33m.\u001b[0m\u001b[0mtrainable_weights\u001b[0m\u001b[1;33m)\u001b[0m\u001b[1;33m\u001b[0m\u001b[1;33m\u001b[0m\u001b[0m\n\u001b[1;32m---> 30\u001b[1;33m         \u001b[0moptimizer\u001b[0m\u001b[1;33m.\u001b[0m\u001b[0mapply_gradients\u001b[0m\u001b[1;33m(\u001b[0m\u001b[0mzip\u001b[0m\u001b[1;33m(\u001b[0m\u001b[0mgrads\u001b[0m\u001b[1;33m,\u001b[0m \u001b[0mmodel\u001b[0m\u001b[1;33m.\u001b[0m\u001b[0mtrainable_weights\u001b[0m\u001b[1;33m)\u001b[0m\u001b[1;33m)\u001b[0m\u001b[1;33m\u001b[0m\u001b[1;33m\u001b[0m\u001b[0m\n\u001b[0m\u001b[0;32m     31\u001b[0m \u001b[1;33m\u001b[0m\u001b[0m\n\u001b[0;32m     32\u001b[0m         \u001b[0mnew_vars\u001b[0m \u001b[1;33m=\u001b[0m \u001b[0mmodel\u001b[0m\u001b[1;33m.\u001b[0m\u001b[0mget_weights\u001b[0m\u001b[1;33m(\u001b[0m\u001b[1;33m)\u001b[0m\u001b[1;33m\u001b[0m\u001b[1;33m\u001b[0m\u001b[0m\n",
      "\u001b[1;31mKeyboardInterrupt\u001b[0m: "
     ]
    }
   ],
   "source": [
    "training_loss = []\n",
    "loaded = np.load('./two_link_arm_pretraining_data.npz')\n",
    "angles = loaded['x']\n",
    "positions = loaded['y']\n",
    "\n",
    "for epoch in range(epochs):\n",
    "    losses = []\n",
    "    for meta_iter in range(n_tasks):\n",
    "        frac_done = meta_iter / n_tasks\n",
    "        cur_meta_step_size = (1 - frac_done) * meta_step_size\n",
    "        # Temporarily save the weights from the model.\n",
    "        old_vars = model.get_weights()\n",
    "        # Get a sample from the full dataset.\n",
    "        limb_length = np.random.normal(loc=1, scale=np.sqrt(0.3), size=(2,))\n",
    "        x_train = angles[meta_iter*n_episode:(meta_iter+1)*n_episode]\n",
    "        y_train = positions[meta_iter*n_episode:(meta_iter+1)*n_episode]\n",
    "\n",
    "        # for i in range(0, positions.shape[0], batch_size):\n",
    "        #     with tf.GradientTape() as tape:\n",
    "        #         preds = model(x_train[i:i+batch_size])\n",
    "        #         truth = y_train[i:i+batch_size]\n",
    "        #         loss = loss_mse(truth, preds)\n",
    "        #     grads = tape.gradient(loss, model.trainable_weights)\n",
    "        #     optimizer.apply_gradients(zip(grads, model.trainable_weights))\n",
    "        \n",
    "        with tf.GradientTape() as tape:\n",
    "            preds = model(x_train)\n",
    "            loss = loss_mse(y_train, preds)\n",
    "        grads = tape.gradient(loss, model.trainable_weights)\n",
    "        optimizer.apply_gradients(zip(grads, model.trainable_weights))\n",
    "\n",
    "        new_vars = model.get_weights()\n",
    "        for var in range(len(new_vars)):\n",
    "            new_vars[var] = old_vars[var] + ((new_vars[var] - old_vars[var]) * cur_meta_step_size)\n",
    "        # After the meta-learning step, reload the newly-trained weights into the model.\n",
    "        model.set_weights(new_vars)\n",
    "        losses.append(loss_mse(y_train, model(x_train)))\n",
    "    training_loss.append(np.mean(losses))\n",
    "    \n",
    "    if (epoch+1) % eval_interval == 0:\n",
    "        print(f\"Epoch: {epoch+1}: training MSE = {np.mean(losses)}\")"
   ]
  },
  {
   "cell_type": "code",
   "execution_count": 32,
   "metadata": {},
   "outputs": [
    {
     "data": {
      "text/plain": [
       "[<matplotlib.lines.Line2D at 0x150df4ad5b0>]"
      ]
     },
     "execution_count": 32,
     "metadata": {},
     "output_type": "execute_result"
    },
    {
     "data": {
      "image/png": "[encoded data removed]",
      "text/plain": [
       "<Figure size 432x288 with 1 Axes>"
      ]
     },
     "metadata": {
      "needs_background": "light"
     },
     "output_type": "display_data"
    }
   ],
   "source": [
    "plt.plot(training_loss)"
   ]
  },
  {
   "cell_type": "code",
   "execution_count": 33,
   "metadata": {},
   "outputs": [
    {
     "name": "stdout",
     "output_type": "stream",
     "text": [
      "INFO:tensorflow:Assets written to: ./two_link_arm_pretrained_R.model\\assets\n"
     ]
    }
   ],
   "source": [
    "model.save('./two_link_arm_pretrained_R.model')"
   ]
  },
  {
   "cell_type": "code",
   "execution_count": null,
   "metadata": {},
   "outputs": [],
   "source": []
  }
 ],
 "metadata": {
  "accelerator": "GPU",
  "colab": {
   "provenance": []
  },
  "gpuClass": "standard",
  "kernelspec": {
   "display_name": "base",
   "language": "python",
   "name": "python3"
  },
  "language_info": {
   "codemirror_mode": {
    "name": "ipython",
    "version": 3
   },
   "file_extension": ".py",
   "mimetype": "text/x-python",
   "name": "python",
   "nbconvert_exporter": "python",
   "pygments_lexer": "ipython3",
   "version": "3.8.3"
  },
  "vscode": {
   "interpreter": {
    "hash": "9e9dd1ae481486d48c9db6dc9dc7a9a7f82b64eba274b60c6e858d1cb03bdb70"
   }
  }
 },
 "nbformat": 4,
 "nbformat_minor": 4
}
