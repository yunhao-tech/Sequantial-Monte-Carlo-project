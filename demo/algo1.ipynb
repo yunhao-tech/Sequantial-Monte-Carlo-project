{
 "cells": [
  {
   "cell_type": "code",
   "execution_count": 13,
   "metadata": {},
   "outputs": [],
   "source": [
    "import tensorflow as tf\n",
    "import numpy as np\n",
    "import scipy.stats as st"
   ]
  },
  {
   "cell_type": "code",
   "execution_count": null,
   "metadata": {},
   "outputs": [],
   "source": [
    "# Trained net f_theta\n",
    "#f_theta = tensorflow.keras.models.load_model('./two_link_arm_pretrained_M.model')\n",
    "f_theta = model\n",
    "# Have an observation sequence z\n",
    "loaded = np.load('./two_link_arm_pretraining_data.npz')\n",
    "\n",
    "# print(np.array_equal(angles , loaded['x']))\n",
    "# print(np.array_equal(positions , loaded['y']))\n",
    "angles = loaded['x']\n",
    "positions = loaded['y']\n",
    "\n",
    "x = angles\n",
    "z = positions\n",
    "# Transition probability d\n",
    "d = 0.5\n",
    "# measurement incertainty Sigma\n",
    "noise = 0.01\n",
    "Sigma = np.identity(2)*noise\n",
    "print(Sigma)\n",
    "\n",
    "# Number of particles N\n",
    "N = 15\n",
    "\n",
    "# Number of timesteps\n",
    "T = 10\n",
    "\n",
    "#Mask shape\n",
    "mask_shape= 512"
   ]
  },
  {
   "cell_type": "code",
   "execution_count": 3,
   "metadata": {},
   "outputs": [],
   "source": [
    "def binarize(x):\n",
    "    return 1. if(x>=0.5) else 0.\n",
    "\n",
    "vbinarize = np.vectorize(binarize)\n",
    "def flip(x):\n",
    "    return 0. if x==1. else 1.\n",
    "\n",
    "def bitflip(a, d):\n",
    "    array = a\n",
    "    index = np.random.choice(range(len(a)), size = int(d*len(a)), replace = False)\n",
    "    for x in index:\n",
    "        array[x] = flip(array[x])\n",
    "    return array\n",
    "\n",
    "def resample(mask_list, weights):\n",
    "    N = len(mask_list)\n",
    "    index = np.random.choice(range(0,N), size = N, replace = True, p = weights)\n",
    "    return([mask_list[i] for i in index])"
   ]
  },
  {
   "cell_type": "code",
   "execution_count": null,
   "metadata": {},
   "outputs": [],
   "source": [
    "def smcd(T, N, f_theta, z, d, Sigma, mask_shape):\n",
    "    \n",
    "    mask_estimate = np.zeros((T, mask_shape))\n",
    "    #Initialise N random masks M0_i\n",
    "    masks = np.zeros((T+1,N,mask_shape))\n",
    "    for i in range(0,N):\n",
    "        masks[0][i] = np.random.rand(mask_shape)\n",
    "        masks[0][i] = np.array([binarize(x) for x in masks[0][i]])\n",
    "    x=np.zeros((T+1,2))\n",
    "    #Initialize x at z_0 ??\n",
    "    x[0] = z[0]\n",
    "    for t in range(1,T+1):\n",
    "        w = np.zeros(N)\n",
    "        for i in range(0,N):\n",
    "              # Sample Mt_i ~ p(Mt_i|M(t-1)_i) by bit-flipping\n",
    "            masks[t][i] = bitflip(masks[t-1][i], d)\n",
    "            # Sample xt_i=f_theta(x(t-1), u_t|Mt_i)\n",
    "            ##x[t][i] = f_theta.predict(x[t-1][i], u[t], masks[t][i])\n",
    "            #print(x[t-1], i, t)\n",
    "            x_t_i = f_theta.predict(np.array([x[t-1]])) #include mask and u here\n",
    "            # Evaluate w_i = N(z_t|xt_i, Sigma)\n",
    "            w[i] = st.multivariate_normal.pdf(z[t], mean = x_t_i[0], cov= Sigma)\n",
    "        # Draw masks\n",
    "        # print(w)\n",
    "    w = w/sum(w)\n",
    "    #print(w)\n",
    "   # print(masks[t])\n",
    "    masks[t] = resample(masks[t], w)  \n",
    "   # print(masks[t])\n",
    "        # Compute the nest mask estimate (mean)\n",
    "    mask_estimate[t-1] = 1/N * sum(masks[t])\n",
    "    mask_estimate[t-1] = vbinarize(mask_estimate[t-1])\n",
    "    ## Is this how x[t] is supposed to be updated??\n",
    "    x[t] = f_theta.predict(np.array([x[t-1]]))\n",
    "    return (mask_estimate)"
   ]
  },
  {
   "cell_type": "code",
   "execution_count": null,
   "metadata": {},
   "outputs": [],
   "source": [
    "smcd(T,N,f_theta, z, d, Sigma, mask_shape)"
   ]
  }
 ],
 "metadata": {
  "kernelspec": {
   "display_name": "Python 3 (Spyder)",
   "language": "python3",
   "name": "python3"
  },
  "language_info": {
   "codemirror_mode": {
    "name": "ipython",
    "version": 3
   },
   "file_extension": ".py",
   "mimetype": "text/x-python",
   "name": "python",
   "nbconvert_exporter": "python",
   "pygments_lexer": "ipython3",
   "version": "3.8.3"
  }
 },
 "nbformat": 4,
 "nbformat_minor": 4
}
